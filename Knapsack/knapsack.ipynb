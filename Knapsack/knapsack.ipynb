{
 "cells": [
  {
   "cell_type": "code",
   "execution_count": 1,
   "id": "283628b0-bcad-41d0-8e3a-1ff8d5044937",
   "metadata": {},
   "outputs": [],
   "source": [
    "import random\n",
    "import numpy as np"
   ]
  },
  {
   "cell_type": "code",
   "execution_count": 59,
   "id": "742d3542-6cbf-4468-8612-f47d64439fff",
   "metadata": {},
   "outputs": [],
   "source": [
    "n_item=5\n",
    "\n",
    "items_weight=10\n",
    "items_value=200\n",
    "\n",
    "max_weight=16\n",
    "\n",
    "population_size=24\n",
    "mutation_rate=0.7\n",
    "epoch=500"
   ]
  },
  {
   "cell_type": "code",
   "execution_count": 3,
   "id": "76d79b49-a3c5-4f43-b169-f2b527434985",
   "metadata": {},
   "outputs": [],
   "source": [
    "def create_items(n_item,items_weight,items_value):\n",
    "    items=[]\n",
    "    for i in range(n_item):\n",
    "        weight=random.randint(1, items_weight)\n",
    "        value=random.randint(0, items_value)\n",
    "        item=[weight,value]\n",
    "        items.append(item)\n",
    "    return items"
   ]
  },
  {
   "cell_type": "code",
   "execution_count": 4,
   "id": "620019ef-c12e-473d-b26f-c79c3f8a3e87",
   "metadata": {},
   "outputs": [],
   "source": [
    "def initial_population(items,population_size):\n",
    "    selected_items=[]\n",
    "    for i in range(population_size):\n",
    "        selected=[random.randint(0,1) for j in range(len(items))]+[0]+[0]\n",
    "        selected_items.append(selected)\n",
    "    return selected_items"
   ]
  },
  {
   "cell_type": "code",
   "execution_count": 5,
   "id": "2ade47f9-19eb-40af-b396-191068fcc45a",
   "metadata": {},
   "outputs": [],
   "source": [
    "def crossover(selected_items,population_size):\n",
    "    half=(len(selected_items[0])-2)//2\n",
    "\n",
    "    for i in range(0,population_size,2):\n",
    "        child1=selected_items[i][:half]+selected_items[i+1][half:len(selected_items[0])-2]+[0,0]\n",
    "        child2=selected_items[i+1][:half]+selected_items[i][half:len(selected_items[0])-2]+[0,0]\n",
    "        selected_items.append(child1)\n",
    "        selected_items.append(child2)\n",
    "    return selected_items"
   ]
  },
  {
   "cell_type": "code",
   "execution_count": 6,
   "id": "2b9b9936-9740-4d64-a526-761a71f7d330",
   "metadata": {},
   "outputs": [],
   "source": [
    "def mutation(selected_items,mutation_rate,n_item,population_size):\n",
    "    children=[j for j in range(population_size,population_size*2)]\n",
    "    random.shuffle(children)\n",
    "    m=int((population_size-1)*mutation_rate)\n",
    "    children=children[:m]\n",
    "    for i in children:\n",
    "        cell1=random.randint(0,n_item-1)\n",
    "        #cell2=random.randint(0,n_item-1)\n",
    "        selected_items[i][cell1]=1 if selected_items[i][cell1]==0 else 0\n",
    "        #selected_items[i][cell2]=1 if selected_items[i][cell2]==0 else 0\n",
    "    return selected_items"
   ]
  },
  {
   "cell_type": "code",
   "execution_count": 7,
   "id": "c1dfc84a-082c-4104-b082-96366dc76ce7",
   "metadata": {},
   "outputs": [],
   "source": [
    "def fitness(selected_items,items,max_weight,n_item,population_size):\n",
    "    weight=0\n",
    "    value=0\n",
    "    for item in selected_items:\n",
    "        weight=0\n",
    "        value=0\n",
    "        for i in range(0,n_item):\n",
    "            if item[i]==1:\n",
    "                weight+=items[i][0]\n",
    "                value+=items[i][1]\n",
    "        item[-2]=weight\n",
    "        item[-1]=value\n",
    "        if item[-2]>max_weight:\n",
    "            selected_items.remove(item)\n",
    "    selected_items= sorted(selected_items, key=lambda item: item[-1],reverse=True)\n",
    "    if len(selected_items)>population_size:\n",
    "        x=len(selected_items)-population_size\n",
    "        selected_items=selected_items[:-x]\n",
    "    return selected_items\n",
    "                \n",
    "                "
   ]
  },
  {
   "cell_type": "code",
   "execution_count": 61,
   "id": "3692bfa4-7df7-4c56-80c8-d5388273adab",
   "metadata": {},
   "outputs": [
    {
     "name": "stdout",
     "output_type": "stream",
     "text": [
      "[[10, 80], [10, 162], [5, 58], [7, 72], [5, 49]]\n",
      "24\n"
     ]
    }
   ],
   "source": [
    "items=create_items(n_item,items_weight,items_value)\n",
    "selected_items=initial_population(items,population_size)\n",
    "print(items)\n",
    "print(len(selected_items))"
   ]
  },
  {
   "cell_type": "code",
   "execution_count": 69,
   "id": "9a7fbe46-3391-4ef0-8ba9-c17a553da01b",
   "metadata": {},
   "outputs": [
    {
     "name": "stdout",
     "output_type": "stream",
     "text": [
      "1 ------ [0, 1, 1, 0, 0, 15, 220]\n",
      "101 ------ [0, 1, 1, 0, 0, 15, 220]\n",
      "201 ------ [0, 1, 1, 0, 0, 15, 220]\n",
      "301 ------ [0, 1, 1, 0, 0, 15, 220]\n",
      "401 ------ [0, 1, 1, 0, 0, 15, 220]\n",
      "500 ------ [0, 1, 1, 0, 0, 15, 220]\n"
     ]
    }
   ],
   "source": [
    "for i in range(epoch):\n",
    "    selected_items=crossover(selected_items,population_size)\n",
    "    selected_items=mutation(selected_items,mutation_rate,n_item,population_size)\n",
    "    selected_items=fitness(selected_items,items,max_weight,n_item,population_size)\n",
    "    if i%100==0:\n",
    "        print(i+1,\"------\",selected_items[0])\n",
    "\n",
    "print(i+1,\"------\",selected_items[0])"
   ]
  },
  {
   "cell_type": "code",
   "execution_count": null,
   "id": "1bb05989-ba7b-44f6-8859-0c7cfd357f17",
   "metadata": {},
   "outputs": [],
   "source": []
  }
 ],
 "metadata": {
  "kernelspec": {
   "display_name": "Python 3 (ipykernel)",
   "language": "python",
   "name": "python3"
  },
  "language_info": {
   "codemirror_mode": {
    "name": "ipython",
    "version": 3
   },
   "file_extension": ".py",
   "mimetype": "text/x-python",
   "name": "python",
   "nbconvert_exporter": "python",
   "pygments_lexer": "ipython3",
   "version": "3.12.7"
  }
 },
 "nbformat": 4,
 "nbformat_minor": 5
}
